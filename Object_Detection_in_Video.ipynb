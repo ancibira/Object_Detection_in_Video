{
 "cells": [
  {
   "cell_type": "markdown",
   "metadata": {},
   "source": [
    "# Object Detection in Video"
   ]
  },
  {
   "cell_type": "markdown",
   "metadata": {},
   "source": [
    "Prerequisites: \n",
    "1. Train Custom Vision Model\n",
    "2. Save frames of video \n",
    "\n",
    "Each frame is passed to the Custom Vision Prediction API to generate the prediction tag, prediction probability and the bounding boxes of each object. These details are applied to each frame using the Python library cv2, and the resulting image is saved to another local folder."
   ]
  },
  {
   "cell_type": "markdown",
   "metadata": {},
   "source": [
    "## 1. Import Libraries & Keys"
   ]
  },
  {
   "cell_type": "code",
   "execution_count": null,
   "metadata": {},
   "outputs": [],
   "source": [
    "import azure\n",
    "from azure.cognitiveservices.vision.customvision.training import CustomVisionTrainingClient\n",
    "from azure.cognitiveservices.vision.customvision.prediction import CustomVisionPredictionClient\n",
    "from azure.cognitiveservices.vision.customvision.training.models import ImageFileCreateEntry, Region\n",
    "import cv2\n",
    "import numpy as np\n",
    "import math\n",
    "from decimal import *\n",
    "import os, sys\n",
    "from dotenv import load_dotenv"
   ]
  },
  {
   "cell_type": "code",
   "execution_count": null,
   "metadata": {},
   "outputs": [],
   "source": [
    "load_dotenv(verbose=True)"
   ]
  },
  {
   "cell_type": "code",
   "execution_count": null,
   "metadata": {},
   "outputs": [],
   "source": [
    "# Resource ID of Custom Vision Azure Resource\n",
    "prediction_resource_id = os.getenv('prediction_resource_id')\n",
    "\n",
    "# Custom Vision Endpoint\n",
    "ENDPOINT = os.getenv('ENDPOINT')\n",
    "\n",
    "# Keys from your Custom Vision project where you trained the model\n",
    "training_key = os.getenv('training_key')\n",
    "prediction_key = os.getenv('prediction_key')\n",
    "\n",
    "# ID and Iteration Name of the Custom Vision project where you trained the model\n",
    "# and the iteration name of the published model\n",
    "project_id = os.getenv('project_id')\n",
    "publish_iteration_name = os.getenv('publish_iteration_name')"
   ]
  },
  {
   "cell_type": "markdown",
   "metadata": {},
   "source": [
    "## 2. Run Prediction over Sample Files"
   ]
  },
  {
   "cell_type": "code",
   "execution_count": null,
   "metadata": {},
   "outputs": [],
   "source": [
    "# The local path to the sample files\n",
    "path = os.getenv('load_path')\n",
    "dirs = os.listdir(path)\n",
    "\n",
    "# Initialise the count\n",
    "count = 0\n",
    "\n",
    "# Initialise the predictor\n",
    "predictor = CustomVisionPredictionClient(prediction_key, endpoint=ENDPOINT)"
   ]
  },
  {
   "cell_type": "code",
   "execution_count": null,
   "metadata": {},
   "outputs": [],
   "source": [
    "# For each file in the sample file folder...\n",
    "for f in dirs:\n",
    "\n",
    "    # read the image in and run the prediction\n",
    "    img = cv2.imread(path+f, cv2.IMREAD_UNCHANGED)\n",
    "    img = cv2.pyrDown(img)\n",
    "    im_h, im_w, im_c = img.shape\n",
    "\n",
    "    with open(path+f, mode=\"rb\") as test_data:\n",
    "        results = predictor.detect_image(project_id, publish_iteration_name, test_data)\n",
    "\n",
    "    # Display the results.    \n",
    "    for prediction in results.predictions:\n",
    "        print(\"\\t\" + prediction.tag_name + \": {0:.2f}% bbox.left = {1:.2f}, bbox.top = {2:.2f}, bbox.width = {3:.2f}, bbox.height = {4:.2f}\".format(prediction.probability * 100, prediction.bounding_box.left, prediction.bounding_box.top, prediction.bounding_box.width, prediction.bounding_box.height))\n",
    "    \n",
    "        # only put bounding box if probability is more than 51%\n",
    "        d = Decimal(prediction.probability)\n",
    "        if d >= 0.51:\n",
    "            pred_prob = str(round(d * 100))   \n",
    "            print(\"pred_prob: {}\".format(pred_prob))\n",
    "\n",
    "            x = int(math.floor(prediction.bounding_box.left * im_w))\n",
    "            y = int(math.floor(prediction.bounding_box.top * im_h))\n",
    "            w = int(math.floor(prediction.bounding_box.width * im_w))\n",
    "            h = int(math.floor(prediction.bounding_box.height * im_h))\n",
    "\n",
    "            # red formatting for Apache\n",
    "            if prediction.tag_name == \"Apache AH-64\":\n",
    "                # rectangle\n",
    "                img_box = cv2.rectangle(img,(x,y),(x+w,y+h),(204,0,0),2) \n",
    "                # apply label\n",
    "                text_label = '{}%'.format(pred_prob)\n",
    "                cv2.putText(img,prediction.tag_name,(x,y+h+20),0,0.4,(204,0,0))\n",
    "                cv2.putText(img,text_label,(x,y+h+35),0,0.4,(204,0,0))\n",
    "            \n",
    "            # Green formatting for Chinook  \n",
    "            elif prediction.tag_name == \"CH-47 Chinook\":\n",
    "                # rectangle\n",
    "                img_box = cv2.rectangle(img,(x,y),(x+w,y+h),(0,102,0),2) \n",
    "                # apply label\n",
    "                text_label = '{}%'.format(pred_prob)\n",
    "\n",
    "                cv2.putText(img,prediction.tag_name,(x,y+h+20),0,0.4,(0,102,0))\n",
    "                cv2.putText(img,text_label,(x,y+h+35),0,0.4,(0,102,0))\n",
    "\n",
    "            # Blue formatting for Agusta Bell\n",
    "            elif prediction.tag_name == \"Agusta Bell UH-1\":\n",
    "                # rectangle\n",
    "                img_box = cv2.rectangle(img,(x,y),(x+w,y+h),(0,0,255),2) \n",
    "                # apply label\n",
    "                text_label = '{}%'.format(pred_prob)\n",
    "                #cv2.putText(img,text_label,(x,y+h+20),0,0.4,(255,0,0))\n",
    "                cv2.putText(img,prediction.tag_name,(x,y+h+20),0,0.4,(0,0,255))\n",
    "                cv2.putText(img,text_label,(x,y+h+35),0,0.4,(0,0,255))\n",
    "\n",
    "            # White formatting for everything else\n",
    "            else:\n",
    "                # rectangle\n",
    "                img_box = cv2.rectangle(img,(x,y),(x+w,y+h),(255,255,255),2) \n",
    "                # apply label\n",
    "                text_label = '{}%'.format(pred_prob)\n",
    "                #cv2.putText(img,text_label,(x,y+h+20),0,0.4,(255,0,0))\n",
    "                cv2.putText(img,prediction.tag_name,(x,y+h+20),0,0.4,(255,255,255))\n",
    "                cv2.putText(img,text_label,(x,y+h+35),0,0.4,(255,255,255))\n",
    "\n",
    "    # save the file to a local folder with the formatted bounding boxes and text, then move to the next image. \n",
    "    image_to_write = cv2.cvtColor(img, cv2.COLOR_RGB2BGR)\n",
    "    file_to_be_saved = os.getenv('file_to_be_saved')\n",
    "    save_file = cv2.imwrite(file_to_be_saved.format(count),image_to_write)\n",
    "    count += 1\n",
    "    \n",
    "print(\"Finished!\")"
   ]
  }
 ],
 "metadata": {
  "kernelspec": {
   "display_name": "Python 3",
   "language": "python",
   "name": "python3"
  },
  "language_info": {
   "codemirror_mode": {
    "name": "ipython",
    "version": 3
   },
   "file_extension": ".py",
   "mimetype": "text/x-python",
   "name": "python",
   "nbconvert_exporter": "python",
   "pygments_lexer": "ipython3",
   "version": "3.7.4"
  }
 },
 "nbformat": 4,
 "nbformat_minor": 2
}
